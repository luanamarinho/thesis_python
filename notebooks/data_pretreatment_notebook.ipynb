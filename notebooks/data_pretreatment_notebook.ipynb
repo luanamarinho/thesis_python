{
 "cells": [
  {
   "cell_type": "markdown",
   "metadata": {},
   "source": [
    "### Import libraries"
   ]
  },
  {
   "cell_type": "code",
   "execution_count": 1,
   "metadata": {},
   "outputs": [
    {
     "ename": "ModuleNotFoundError",
     "evalue": "No module named 'utils'",
     "output_type": "error",
     "traceback": [
      "\u001b[1;31m---------------------------------------------------------------------------\u001b[0m",
      "\u001b[1;31mModuleNotFoundError\u001b[0m                       Traceback (most recent call last)",
      "Cell \u001b[1;32mIn[1], line 6\u001b[0m\n\u001b[0;32m      4\u001b[0m \u001b[38;5;28;01mimport\u001b[39;00m \u001b[38;5;21;01mgzip\u001b[39;00m\n\u001b[0;32m      5\u001b[0m \u001b[38;5;28;01mfrom\u001b[39;00m \u001b[38;5;21;01mjoblib\u001b[39;00m \u001b[38;5;28;01mimport\u001b[39;00m dump, load\n\u001b[1;32m----> 6\u001b[0m \u001b[38;5;28;01mfrom\u001b[39;00m \u001b[38;5;21;01mutils\u001b[39;00m\u001b[38;5;21;01m.\u001b[39;00m\u001b[38;5;21;01mslice_data_HVG\u001b[39;00m \u001b[38;5;28;01mimport\u001b[39;00m slice_data_HVG\n\u001b[0;32m      7\u001b[0m \u001b[38;5;28;01mfrom\u001b[39;00m \u001b[38;5;21;01mutils\u001b[39;00m\u001b[38;5;21;01m.\u001b[39;00m\u001b[38;5;21;01mdata_pretreatment\u001b[39;00m \u001b[38;5;28;01mimport\u001b[39;00m preprocess_sparse_matrix\n\u001b[0;32m      8\u001b[0m \u001b[38;5;28;01mfrom\u001b[39;00m \u001b[38;5;21;01mutils\u001b[39;00m\u001b[38;5;21;01m.\u001b[39;00m\u001b[38;5;21;01msample_row_ind\u001b[39;00m \u001b[38;5;28;01mimport\u001b[39;00m sampled_ind_matrix\n",
      "\u001b[1;31mModuleNotFoundError\u001b[0m: No module named 'utils'"
     ]
    }
   ],
   "source": [
    "from scipy.io import mmread\n",
    "import pandas as pd\n",
    "import numpy as np\n",
    "import gzip\n",
    "from joblib import dump, load\n",
    "from utils.slice_data_HVG import slice_data_HVG\n",
    "from utils.data_pretreatment import preprocess_sparse_matrix\n",
    "from utils.sample_row_ind import sampled_ind_matrix"
   ]
  },
  {
   "cell_type": "markdown",
   "metadata": {},
   "source": [
    "### Load raw gene expression data, transpose and row-compress. Load metadata."
   ]
  },
  {
   "cell_type": "code",
   "execution_count": 2,
   "metadata": {},
   "outputs": [
    {
     "ename": "KeyboardInterrupt",
     "evalue": "",
     "output_type": "error",
     "traceback": [
      "\u001b[1;31m---------------------------------------------------------------------------\u001b[0m",
      "\u001b[1;31mKeyboardInterrupt\u001b[0m                         Traceback (most recent call last)",
      "File \u001b[1;32m<timed exec>:3\u001b[0m\n",
      "File \u001b[1;32m~\\AppData\\Roaming\\Python\\Python312\\site-packages\\scipy\\io\\_mmio.py:129\u001b[0m, in \u001b[0;36mmmread\u001b[1;34m(source)\u001b[0m\n\u001b[0;32m     84\u001b[0m \u001b[38;5;28;01mdef\u001b[39;00m \u001b[38;5;21mmmread\u001b[39m(source):\n\u001b[0;32m     85\u001b[0m \u001b[38;5;250m    \u001b[39m\u001b[38;5;124;03m\"\"\"\u001b[39;00m\n\u001b[0;32m     86\u001b[0m \u001b[38;5;124;03m    Reads the contents of a Matrix Market file-like 'source' into a matrix.\u001b[39;00m\n\u001b[0;32m     87\u001b[0m \n\u001b[1;32m   (...)\u001b[0m\n\u001b[0;32m    127\u001b[0m \u001b[38;5;124;03m           [0., 0., 0., 0., 0.]])\u001b[39;00m\n\u001b[0;32m    128\u001b[0m \u001b[38;5;124;03m    \"\"\"\u001b[39;00m\n\u001b[1;32m--> 129\u001b[0m     \u001b[38;5;28;01mreturn\u001b[39;00m \u001b[43mMMFile\u001b[49m\u001b[43m(\u001b[49m\u001b[43m)\u001b[49m\u001b[38;5;241;43m.\u001b[39;49m\u001b[43mread\u001b[49m\u001b[43m(\u001b[49m\u001b[43msource\u001b[49m\u001b[43m)\u001b[49m\n",
      "File \u001b[1;32m~\\AppData\\Roaming\\Python\\Python312\\site-packages\\scipy\\io\\_mmio.py:582\u001b[0m, in \u001b[0;36mMMFile.read\u001b[1;34m(self, source)\u001b[0m\n\u001b[0;32m    580\u001b[0m \u001b[38;5;28;01mtry\u001b[39;00m:\n\u001b[0;32m    581\u001b[0m     \u001b[38;5;28mself\u001b[39m\u001b[38;5;241m.\u001b[39m_parse_header(stream)\n\u001b[1;32m--> 582\u001b[0m     \u001b[38;5;28;01mreturn\u001b[39;00m \u001b[38;5;28;43mself\u001b[39;49m\u001b[38;5;241;43m.\u001b[39;49m\u001b[43m_parse_body\u001b[49m\u001b[43m(\u001b[49m\u001b[43mstream\u001b[49m\u001b[43m)\u001b[49m\n\u001b[0;32m    584\u001b[0m \u001b[38;5;28;01mfinally\u001b[39;00m:\n\u001b[0;32m    585\u001b[0m     \u001b[38;5;28;01mif\u001b[39;00m close_it:\n",
      "File \u001b[1;32m~\\AppData\\Roaming\\Python\\Python312\\site-packages\\scipy\\io\\_mmio.py:737\u001b[0m, in \u001b[0;36mMMFile._parse_body\u001b[1;34m(self, stream)\u001b[0m\n\u001b[0;32m    734\u001b[0m entry_number \u001b[38;5;241m=\u001b[39m \u001b[38;5;241m0\u001b[39m\n\u001b[0;32m    735\u001b[0m \u001b[38;5;28;01mfor\u001b[39;00m line \u001b[38;5;129;01min\u001b[39;00m stream:\n\u001b[0;32m    736\u001b[0m     \u001b[38;5;66;03m# line.startswith('%')\u001b[39;00m\n\u001b[1;32m--> 737\u001b[0m     \u001b[38;5;28;01mif\u001b[39;00m \u001b[38;5;129;01mnot\u001b[39;00m line \u001b[38;5;129;01mor\u001b[39;00m line[\u001b[38;5;241m0\u001b[39m] \u001b[38;5;129;01min\u001b[39;00m [\u001b[38;5;124m'\u001b[39m\u001b[38;5;124m%\u001b[39m\u001b[38;5;124m'\u001b[39m, \u001b[38;5;241m37\u001b[39m] \u001b[38;5;129;01mor\u001b[39;00m \u001b[38;5;129;01mnot\u001b[39;00m \u001b[43mline\u001b[49m\u001b[38;5;241;43m.\u001b[39;49m\u001b[43mstrip\u001b[49m\u001b[43m(\u001b[49m\u001b[43m)\u001b[49m:\n\u001b[0;32m    738\u001b[0m         \u001b[38;5;28;01mcontinue\u001b[39;00m\n\u001b[0;32m    740\u001b[0m     \u001b[38;5;28;01mif\u001b[39;00m entry_number\u001b[38;5;241m+\u001b[39m\u001b[38;5;241m1\u001b[39m \u001b[38;5;241m>\u001b[39m entries:\n",
      "\u001b[1;31mKeyboardInterrupt\u001b[0m: "
     ]
    }
   ],
   "source": [
    "%%time\n",
    "#data_path = '/home/luana/workspace/data/matrix.mtx'\n",
    "data_path = 'C:/Users/luana/Documents/thesis/data/matrix.mtx'\n",
    "data_sparse = mmread(data_path).transpose().tocsr()\n",
    "metadata = pd.read_csv(\"../inst/data/2097-Lungcancer_metadata.csv.gz\")\n",
    "\n",
    "print('Shape of the sparse data matrix is', data_sparse.shape)\n",
    "print(metadata)\n",
    "print('Unique Cell Types in metadata:', pd.unique(metadata['CellType']))"
   ]
  },
  {
   "cell_type": "code",
   "execution_count": 13,
   "metadata": {},
   "outputs": [
    {
     "name": "stdout",
     "output_type": "stream",
     "text": [
      "Index(['Cell', 'nGene', 'nUMI', 'CellFromTumor', 'PatientNumber', 'TumorType',\n",
      "       'TumorSite', 'CellType'],\n",
      "      dtype='object')\n",
      "[ True False]\n",
      "[1 2 3 4 5 6 7 8]\n",
      "['Lung']\n",
      "['I' 'M' 'O' 'N' 'U']\n",
      "['Cancer' 'Myeloid' 'T_cell' 'Mast_cell' 'B_cell' 'Fibroblast' 'Alveolar'\n",
      " 'EC' 'Erythroblast' 'Epithelial']\n"
     ]
    }
   ],
   "source": [
    "print(metadata.columns)\n",
    "print(pd.unique(metadata['CellFromTumor']))\n",
    "print(pd.unique(metadata['PatientNumber']))\n",
    "#print(metadata.loc[metadata['CellFromTumor'] == False, 'TumorType'])\n",
    "print(pd.unique(metadata['TumorType']))\n",
    "print(pd.unique(metadata['TumorSite']))\n",
    "print(pd.unique(metadata['CellType']))"
   ]
  },
  {
   "cell_type": "markdown",
   "metadata": {},
   "source": [
    "### Downsample gene expression data by rows "
   ]
  },
  {
   "cell_type": "code",
   "execution_count": 4,
   "metadata": {},
   "outputs": [
    {
     "name": "stdout",
     "output_type": "stream",
     "text": [
      "[944, 1018, 1407, 131, 1019, 202, 854, 691, 940, 973]\n"
     ]
    }
   ],
   "source": [
    "# Generate row indices\n",
    "ind_rows_downsample = sampled_ind_matrix(metadata = metadata, nbr_samples=40000)\n",
    "print(ind_rows_downsample[:10])"
   ]
  },
  {
   "cell_type": "code",
   "execution_count": 5,
   "metadata": {},
   "outputs": [
    {
     "name": "stdout",
     "output_type": "stream",
     "text": [
      "Shape of Downsampled gene expression data:  (39970, 33694)\n",
      "Shape of Metadata:  (39970, 8)\n"
     ]
    }
   ],
   "source": [
    "# Downsampling raw count data, and metadata with generated row indicies\n",
    "downsampled_sparse = data_sparse[ind_rows_downsample]\n",
    "metadata_sampled = metadata.iloc[ind_rows_downsample, ]\n",
    "print('Shape of Downsampled gene expression data: ', downsampled_sparse.shape)\n",
    "print('Shape of Metadata: ', metadata_sampled.shape)"
   ]
  },
  {
   "cell_type": "code",
   "execution_count": 15,
   "metadata": {},
   "outputs": [],
   "source": [
    "# save results\n",
    "dump(downsampled_sparse, 'data/downsampled_40000_sparse_gzip', compress=('gzip', 3))\n",
    "metadata_sampled.to_csv('data/metadata_sampled.csv', index=False)"
   ]
  },
  {
   "cell_type": "code",
   "execution_count": 7,
   "metadata": {},
   "outputs": [],
   "source": [
    "# Load back\n",
    "#downsampled_sparse_loaded = load('data/downsampled_40000_sparse_gzip')\n",
    "#print(downsampled_sparse_loaded.shape)"
   ]
  },
  {
   "cell_type": "markdown",
   "metadata": {},
   "source": [
    "### Quality Control - cells"
   ]
  },
  {
   "cell_type": "code",
   "execution_count": null,
   "metadata": {},
   "outputs": [],
   "source": [
    "import pandas as pd\n",
    "\n",
    "# Assuming your dataset is a Pandas DataFrame where rows are genes and columns are cells\n",
    "# The dataset should also have metadata such as mitochondrial gene markers and gene counts\n",
    "\n",
    "def quality_control(df, mitochondrial_genes, umi_threshold=1000, gene_threshold=500, mito_fraction_threshold=0.2):\n",
    "    \"\"\"\n",
    "    Perform quality control on single-cell RNA-seq data.\n",
    "    \n",
    "    Parameters:\n",
    "    df (pd.DataFrame): Single-cell RNA-seq data, where rows are genes and columns are cells\n",
    "    mitochondrial_genes (list): List of mitochondrial genes\n",
    "    umi_threshold (int): Minimum number of UMIs per cell to pass the filter\n",
    "    gene_threshold (int): Minimum number of genes detected per cell to pass the filter\n",
    "    mito_fraction_threshold (float): Maximum fraction of mitochondrial genes to pass the filter (e.g., 0.2 for 20%)\n",
    "    \n",
    "    Returns:\n",
    "    pd.DataFrame: Filtered data after QC\n",
    "    \"\"\"\n",
    "    \n",
    "    # Calculate the total UMIs per cell (sum of counts per column)\n",
    "    total_umis = df.sum(axis=0)\n",
    "    \n",
    "    # Calculate the number of genes detected per cell (non-zero counts per column)\n",
    "    genes_detected = (df > 0).sum(axis=0)\n",
    "    \n",
    "    # Calculate the mitochondrial gene fraction per cell\n",
    "    mito_counts = df.loc[mitochondial_genes].sum(axis=0)  # sum mitochondrial gene counts per cell\n",
    "    mito_fraction = mito_counts / total_umis\n",
    "    \n",
    "    # Apply filters\n",
    "    valid_cells = (total_umis > umi_threshold) & \\\n",
    "                  (genes_detected > gene_threshold) & \\\n",
    "                  (mito_fraction < mito_fraction_threshold)\n",
    "    \n",
    "    # Filter the dataset based on the valid cells\n",
    "    filtered_df = df.loc[:, valid_cells]\n",
    "    \n",
    "    return filtered_df\n",
    "\n",
    "# Example of mitochondrial gene list (you'll need to use the actual mitochondrial genes from your dataset)\n",
    "mitochondrial_genes = ['MT-CO1', 'MT-CO2', 'MT-ND1', 'MT-ND2']  # Replace with actual mitochondrial genes\n",
    "\n",
    "# Assuming 'df' is your single-cell RNA-seq data (genes x cells)\n",
    "filtered_data = quality_control(df, mitochondrial_genes)\n",
    "\n",
    "print(f\"Number of cells before QC: {df.shape[1]}\")\n",
    "print(f\"Number of cells after QC: {filtered_data.shape[1]}\")\n"
   ]
  },
  {
   "cell_type": "markdown",
   "metadata": {},
   "source": [
    "### Slice sparse data by top HVG"
   ]
  },
  {
   "cell_type": "code",
   "execution_count": 8,
   "metadata": {},
   "outputs": [
    {
     "name": "stdout",
     "output_type": "stream",
     "text": [
      "(39970, 3369)\n",
      "<class 'scipy.sparse._csr.csr_matrix'>\n"
     ]
    }
   ],
   "source": [
    "# Top 10%\n",
    "data_sp_csr_HVG = slice_data_HVG(downsampled_sparse, perc_top_genes=0.1)\n",
    "print(data_sp_csr_HVG.shape)\n",
    "print(data_sp_csr_HVG.__class__)"
   ]
  },
  {
   "cell_type": "markdown",
   "metadata": {},
   "source": [
    "### Data pre-treatment"
   ]
  },
  {
   "cell_type": "code",
   "execution_count": 9,
   "metadata": {},
   "outputs": [
    {
     "name": "stdout",
     "output_type": "stream",
     "text": [
      "(39970, 3369)\n",
      "CPU times: user 2.13 s, sys: 896 ms, total: 3.03 s\n",
      "Wall time: 3.04 s\n"
     ]
    }
   ],
   "source": [
    "%%time\n",
    "# Preprocess downsampled data, sliced further by top 10 HVG\n",
    "data_preprocessed_4000_10HVG = preprocess_sparse_matrix(data_sp_csr_HVG)\n",
    "print(data_preprocessed_4000_10HVG.shape)"
   ]
  },
  {
   "cell_type": "code",
   "execution_count": 10,
   "metadata": {},
   "outputs": [],
   "source": [
    "#%%time\n",
    "# Preprocess downsampled data, all genes\n",
    "#data_preprocessed_4000 = preprocess_sparse_matrix(downsampled_sparse)\n",
    "#print(data_preprocessed_4000.shape)"
   ]
  },
  {
   "cell_type": "code",
   "execution_count": 13,
   "metadata": {},
   "outputs": [],
   "source": [
    "# Save results\n",
    "f = gzip.GzipFile(\"data/data_preprocessed_4000_10HVG\", \"w\")\n",
    "np.save(file=f, arr = data_preprocessed_4000_10HVG)\n",
    "f.close()"
   ]
  },
  {
   "cell_type": "code",
   "execution_count": 12,
   "metadata": {},
   "outputs": [],
   "source": [
    "# Load back\n",
    "#f = gzip.GzipFile('data/data_preprocessed_4000_10HVG, \"r\"); a = np.load(f)"
   ]
  }
 ],
 "metadata": {
  "kernelspec": {
   "display_name": "Python 3",
   "language": "python",
   "name": "python3"
  },
  "language_info": {
   "codemirror_mode": {
    "name": "ipython",
    "version": 3
   },
   "file_extension": ".py",
   "mimetype": "text/x-python",
   "name": "python",
   "nbconvert_exporter": "python",
   "pygments_lexer": "ipython3",
   "version": "3.12.3"
  }
 },
 "nbformat": 4,
 "nbformat_minor": 2
}
