{
 "cells": [
  {
   "cell_type": "markdown",
   "metadata": {},
   "source": [
    "### Import libraries"
   ]
  },
  {
   "cell_type": "code",
   "execution_count": 2,
   "metadata": {},
   "outputs": [],
   "source": [
    "from scipy.io import mmread\n",
    "import pandas as pd\n",
    "import numpy as np\n",
    "import gzip\n",
    "from joblib import dump, load\n",
    "from utils.slice_data_HVG import slice_data_HVG\n",
    "from utils.data_pretreatment import preprocess_sparse_matrix\n",
    "from utils.sample_row_ind import sampled_ind_matrix"
   ]
  },
  {
   "cell_type": "markdown",
   "metadata": {},
   "source": [
    "### Load raw gene expression data, transpose and row-compress. Load metadata."
   ]
  },
  {
   "cell_type": "code",
   "execution_count": 3,
   "metadata": {},
   "outputs": [
    {
     "name": "stdout",
     "output_type": "stream",
     "text": [
      "Shape of the sparse data matrix is (93575, 33694)\n",
      "                             Cell  nGene  nUMI  CellFromTumor  PatientNumber  \\\n",
      "0           BT1238_AAATCAACTGCCTC    897  3227           True              1   \n",
      "1           BT1238_AACATTGACCTAAG    509   731           True              1   \n",
      "2           BT1238_AACCAGTGCTTAGG    642  2958           True              1   \n",
      "3           BT1238_AACCTACTCGCTAA    925  2781           True              1   \n",
      "4           BT1238_AACTCTTGCTGTAG    713  3000           True              1   \n",
      "...                           ...    ...   ...            ...            ...   \n",
      "93570  scrBT1432_TTTGGTTCATTCTCAT   1419  5192           True              8   \n",
      "93571  scrBT1432_TTTGGTTGTTGGTGGA    398   585           True              8   \n",
      "93572  scrBT1432_TTTGTCACACATGTGT    625  1760           True              8   \n",
      "93573  scrBT1432_TTTGTCAGTACGAAAT    284   491           True              8   \n",
      "93574  scrBT1432_TTTGTCATCGCGGATC    766  6131           True              8   \n",
      "\n",
      "      TumorType TumorSite CellType  \n",
      "0          Lung         I   Cancer  \n",
      "1          Lung         I   Cancer  \n",
      "2          Lung         I  Myeloid  \n",
      "3          Lung         I   T_cell  \n",
      "4          Lung         I   T_cell  \n",
      "...         ...       ...      ...  \n",
      "93570      Lung         I   T_cell  \n",
      "93571      Lung         I   T_cell  \n",
      "93572      Lung         I   T_cell  \n",
      "93573      Lung         I  Myeloid  \n",
      "93574      Lung         I   B_cell  \n",
      "\n",
      "[93575 rows x 8 columns]\n",
      "Unique Cell Types in metadata: ['Cancer' 'Myeloid' 'T_cell' 'Mast_cell' 'B_cell' 'Fibroblast' 'Alveolar'\n",
      " 'EC' 'Erythroblast' 'Epithelial']\n",
      "CPU times: user 7.78 s, sys: 2.53 s, total: 10.3 s\n",
      "Wall time: 2.75 s\n"
     ]
    }
   ],
   "source": [
    "%%time\n",
    "data_path = '/home/luana/workspace/data/matrix.mtx'\n",
    "data_sparse = mmread(data_path).transpose().tocsr()\n",
    "metadata = pd.read_csv(\"data/2097-Lungcancer_metadata.csv.gz\")\n",
    "\n",
    "print('Shape of the sparse data matrix is', data_sparse.shape)\n",
    "print(metadata)\n",
    "print('Unique Cell Types in metadata:', pd.unique(metadata['CellType']))"
   ]
  },
  {
   "cell_type": "markdown",
   "metadata": {},
   "source": [
    "### Downsample gene expression data by rows "
   ]
  },
  {
   "cell_type": "code",
   "execution_count": 4,
   "metadata": {},
   "outputs": [
    {
     "name": "stdout",
     "output_type": "stream",
     "text": [
      "[944, 1018, 1407, 131, 1019, 202, 854, 691, 940, 973]\n"
     ]
    }
   ],
   "source": [
    "# Generate row indices\n",
    "ind_rows_downsample = sampled_ind_matrix(metadata = metadata, nbr_samples=40000)\n",
    "print(ind_rows_downsample[:10])"
   ]
  },
  {
   "cell_type": "code",
   "execution_count": 5,
   "metadata": {},
   "outputs": [
    {
     "name": "stdout",
     "output_type": "stream",
     "text": [
      "Shape of Downsampled gene expression data:  (39970, 33694)\n",
      "Shape of Metadata:  (39970, 8)\n"
     ]
    }
   ],
   "source": [
    "# Downsampling raw count data, and metadata with generated row indicies\n",
    "downsampled_sparse = data_sparse[ind_rows_downsample]\n",
    "metadata_sampled = metadata.iloc[ind_rows_downsample, ]\n",
    "print('Shape of Downsampled gene expression data: ', downsampled_sparse.shape)\n",
    "print('Shape of Metadata: ', metadata_sampled.shape)"
   ]
  },
  {
   "cell_type": "code",
   "execution_count": 15,
   "metadata": {},
   "outputs": [],
   "source": [
    "# save results\n",
    "dump(downsampled_sparse, 'data/downsampled_40000_sparse_gzip', compress=('gzip', 3))\n",
    "metadata_sampled.to_csv('data/metadata_sampled.csv', index=False)"
   ]
  },
  {
   "cell_type": "code",
   "execution_count": 7,
   "metadata": {},
   "outputs": [],
   "source": [
    "# Load back\n",
    "#downsampled_sparse_loaded = load('data/downsampled_40000_sparse_gzip')\n",
    "#print(downsampled_sparse_loaded.shape)"
   ]
  },
  {
   "cell_type": "markdown",
   "metadata": {},
   "source": [
    "### Slice sparse data by top HVG"
   ]
  },
  {
   "cell_type": "code",
   "execution_count": 8,
   "metadata": {},
   "outputs": [
    {
     "name": "stdout",
     "output_type": "stream",
     "text": [
      "(39970, 3369)\n",
      "<class 'scipy.sparse._csr.csr_matrix'>\n"
     ]
    }
   ],
   "source": [
    "# Top 10%\n",
    "data_sp_csr_HVG = slice_data_HVG(downsampled_sparse, perc_top_genes=0.1)\n",
    "print(data_sp_csr_HVG.shape)\n",
    "print(data_sp_csr_HVG.__class__)"
   ]
  },
  {
   "cell_type": "markdown",
   "metadata": {},
   "source": [
    "### Data pre-treatment"
   ]
  },
  {
   "cell_type": "code",
   "execution_count": 9,
   "metadata": {},
   "outputs": [
    {
     "name": "stdout",
     "output_type": "stream",
     "text": [
      "(39970, 3369)\n",
      "CPU times: user 2.13 s, sys: 896 ms, total: 3.03 s\n",
      "Wall time: 3.04 s\n"
     ]
    }
   ],
   "source": [
    "%%time\n",
    "# Preprocess downsampled data, sliced further by top 10 HVG\n",
    "data_preprocessed_4000_10HVG = preprocess_sparse_matrix(data_sp_csr_HVG)\n",
    "print(data_preprocessed_4000_10HVG.shape)"
   ]
  },
  {
   "cell_type": "code",
   "execution_count": 10,
   "metadata": {},
   "outputs": [],
   "source": [
    "#%%time\n",
    "# Preprocess downsampled data, all genes\n",
    "#data_preprocessed_4000 = preprocess_sparse_matrix(downsampled_sparse)\n",
    "#print(data_preprocessed_4000.shape)"
   ]
  },
  {
   "cell_type": "code",
   "execution_count": 13,
   "metadata": {},
   "outputs": [],
   "source": [
    "# Save results\n",
    "f = gzip.GzipFile(\"data/data_preprocessed_4000_10HVG\", \"w\")\n",
    "np.save(file=f, arr = data_preprocessed_4000_10HVG)\n",
    "f.close()"
   ]
  },
  {
   "cell_type": "code",
   "execution_count": 12,
   "metadata": {},
   "outputs": [],
   "source": [
    "# Load back\n",
    "#f = gzip.GzipFile('data/data_preprocessed_4000_10HVG, \"r\"); a = np.load(f)"
   ]
  }
 ],
 "metadata": {
  "kernelspec": {
   "display_name": "Python 3",
   "language": "python",
   "name": "python3"
  },
  "language_info": {
   "codemirror_mode": {
    "name": "ipython",
    "version": 3
   },
   "file_extension": ".py",
   "mimetype": "text/x-python",
   "name": "python",
   "nbconvert_exporter": "python",
   "pygments_lexer": "ipython3",
   "version": "3.10.12"
  }
 },
 "nbformat": 4,
 "nbformat_minor": 2
}
