{
 "cells": [
  {
   "cell_type": "markdown",
   "metadata": {},
   "source": [
    "### Import libraries"
   ]
  },
  {
   "cell_type": "code",
   "execution_count": 2,
   "metadata": {},
   "outputs": [],
   "source": [
    "from scipy.io import mmread\n",
    "import pandas as pd\n",
    "import numpy as np\n",
    "import gzip\n",
    "from utils.slice_data_HVG import slice_data_HVG\n",
    "from utils.data_pretreatment import preprocess_sparse_matrix\n",
    "from utils.sampled_row_ind import sampled_ind_matrix"
   ]
  },
  {
   "cell_type": "markdown",
   "metadata": {},
   "source": [
    "### Load raw gene expression data, transpose and row-compress. Load metadata."
   ]
  },
  {
   "cell_type": "code",
   "execution_count": 3,
   "metadata": {},
   "outputs": [
    {
     "name": "stdout",
     "output_type": "stream",
     "text": [
      "Shape of the sparse data matrix is (93575, 33694)\n",
      "                             Cell  nGene  nUMI  CellFromTumor  PatientNumber  \\\n",
      "0           BT1238_AAATCAACTGCCTC    897  3227           True              1   \n",
      "1           BT1238_AACATTGACCTAAG    509   731           True              1   \n",
      "2           BT1238_AACCAGTGCTTAGG    642  2958           True              1   \n",
      "3           BT1238_AACCTACTCGCTAA    925  2781           True              1   \n",
      "4           BT1238_AACTCTTGCTGTAG    713  3000           True              1   \n",
      "...                           ...    ...   ...            ...            ...   \n",
      "93570  scrBT1432_TTTGGTTCATTCTCAT   1419  5192           True              8   \n",
      "93571  scrBT1432_TTTGGTTGTTGGTGGA    398   585           True              8   \n",
      "93572  scrBT1432_TTTGTCACACATGTGT    625  1760           True              8   \n",
      "93573  scrBT1432_TTTGTCAGTACGAAAT    284   491           True              8   \n",
      "93574  scrBT1432_TTTGTCATCGCGGATC    766  6131           True              8   \n",
      "\n",
      "      TumorType TumorSite CellType  \n",
      "0          Lung         I   Cancer  \n",
      "1          Lung         I   Cancer  \n",
      "2          Lung         I  Myeloid  \n",
      "3          Lung         I   T_cell  \n",
      "4          Lung         I   T_cell  \n",
      "...         ...       ...      ...  \n",
      "93570      Lung         I   T_cell  \n",
      "93571      Lung         I   T_cell  \n",
      "93572      Lung         I   T_cell  \n",
      "93573      Lung         I  Myeloid  \n",
      "93574      Lung         I   B_cell  \n",
      "\n",
      "[93575 rows x 8 columns]\n",
      "Unique Cell Types in metadata: ['Cancer' 'Myeloid' 'T_cell' 'Mast_cell' 'B_cell' 'Fibroblast' 'Alveolar'\n",
      " 'EC' 'Erythroblast' 'Epithelial']\n",
      "CPU times: total: 3.8 s\n",
      "Wall time: 3.72 s\n"
     ]
    }
   ],
   "source": [
    "%%time\n",
    "data_sparse = mmread(\"data/matrix.mtx\").transpose().tocsr()\n",
    "metadata = pd.read_csv(\"data/2097-Lungcancer_metadata.csv.gz\")\n",
    "\n",
    "print('Shape of the sparse data matrix is', data_sparse.shape)\n",
    "print(metadata)\n",
    "print('Unique Cell Types in metadata:', pd.unique(metadata['CellType']))"
   ]
  },
  {
   "cell_type": "markdown",
   "metadata": {},
   "source": [
    "### Downsample gene expression data by rows "
   ]
  },
  {
   "cell_type": "code",
   "execution_count": null,
   "metadata": {},
   "outputs": [],
   "source": []
  },
  {
   "cell_type": "markdown",
   "metadata": {},
   "source": [
    "### Slice sparse data by 10% HVG"
   ]
  },
  {
   "cell_type": "code",
   "execution_count": 4,
   "metadata": {},
   "outputs": [
    {
     "name": "stdout",
     "output_type": "stream",
     "text": [
      "(93575, 3369)\n"
     ]
    }
   ],
   "source": [
    "data_sp_csr_HVG = slice_data_HVG(data_sparse)\n",
    "print(data_sp_csr_HVG.shape)"
   ]
  },
  {
   "cell_type": "markdown",
   "metadata": {},
   "source": [
    "### Data pre-treatment"
   ]
  },
  {
   "cell_type": "code",
   "execution_count": 5,
   "metadata": {},
   "outputs": [
    {
     "name": "stdout",
     "output_type": "stream",
     "text": [
      "CPU times: total: 11.2 s\n",
      "Wall time: 16.9 s\n"
     ]
    }
   ],
   "source": [
    "%%time\n",
    "data_preprocessed = preprocess_sparse_matrix(data_sp_csr_HVG)"
   ]
  },
  {
   "cell_type": "code",
   "execution_count": 7,
   "metadata": {},
   "outputs": [],
   "source": [
    "# Save results\n",
    "f = gzip.GzipFile(\"data/originaldata_HGV_preproc_gzip\", \"w\")\n",
    "np.save(file=f,  arr = data_preprocessed)\n",
    "f.close()"
   ]
  },
  {
   "cell_type": "code",
   "execution_count": null,
   "metadata": {},
   "outputs": [],
   "source": [
    "#f = gzip.GzipFile('dense_data_scaled_compressed_gzip', \"r\"); a = np.load(f)"
   ]
  }
 ],
 "metadata": {
  "kernelspec": {
   "display_name": "Python 3",
   "language": "python",
   "name": "python3"
  },
  "language_info": {
   "codemirror_mode": {
    "name": "ipython",
    "version": 3
   },
   "file_extension": ".py",
   "mimetype": "text/x-python",
   "name": "python",
   "nbconvert_exporter": "python",
   "pygments_lexer": "ipython3",
   "version": "3.12.3"
  }
 },
 "nbformat": 4,
 "nbformat_minor": 2
}
